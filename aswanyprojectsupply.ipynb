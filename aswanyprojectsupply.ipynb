{
 "cells": [
  {
   "cell_type": "code",
   "execution_count": null,
   "id": "444b7486",
   "metadata": {},
   "outputs": [],
   "source": [
    "#supply chain management"
   ]
  },
  {
   "cell_type": "code",
   "execution_count": null,
   "id": "515c7fe4",
   "metadata": {},
   "outputs": [],
   "source": [
    "#importing necessary libraries"
   ]
  },
  {
   "cell_type": "code",
   "execution_count": 1,
   "id": "ed4b0372",
   "metadata": {},
   "outputs": [],
   "source": [
    "import pandas as pd\n",
    "import numpy as np\n",
    "import matplotlib.pyplot as plt"
   ]
  },
  {
   "cell_type": "code",
   "execution_count": null,
   "id": "e78e7242",
   "metadata": {},
   "outputs": [],
   "source": [
    "##importing supply train dataset"
   ]
  },
  {
   "cell_type": "code",
   "execution_count": 2,
   "id": "71d86267",
   "metadata": {},
   "outputs": [],
   "source": [
    "df=pd.read_csv(\"Downloads/supply_train.csv\")"
   ]
  },
  {
   "cell_type": "code",
   "execution_count": 3,
   "id": "6de8d28a",
   "metadata": {},
   "outputs": [
    {
     "data": {
      "text/html": [
       "<div>\n",
       "<style scoped>\n",
       "    .dataframe tbody tr th:only-of-type {\n",
       "        vertical-align: middle;\n",
       "    }\n",
       "\n",
       "    .dataframe tbody tr th {\n",
       "        vertical-align: top;\n",
       "    }\n",
       "\n",
       "    .dataframe thead th {\n",
       "        text-align: right;\n",
       "    }\n",
       "</style>\n",
       "<table border=\"1\" class=\"dataframe\">\n",
       "  <thead>\n",
       "    <tr style=\"text-align: right;\">\n",
       "      <th></th>\n",
       "      <th>Unnamed: 0</th>\n",
       "      <th>Ware_house_ID</th>\n",
       "      <th>WH_Manager_ID</th>\n",
       "      <th>Location_type</th>\n",
       "      <th>WH_capacity_size</th>\n",
       "      <th>zone</th>\n",
       "      <th>WH_regional_zone</th>\n",
       "      <th>num_refill_req_l3m</th>\n",
       "      <th>transport_issue_l1y</th>\n",
       "      <th>Competitor_in_mkt</th>\n",
       "      <th>...</th>\n",
       "      <th>electric_supply</th>\n",
       "      <th>dist_from_hub</th>\n",
       "      <th>workers_num</th>\n",
       "      <th>wh_est_year</th>\n",
       "      <th>storage_issue_reported_l3m</th>\n",
       "      <th>temp_reg_mach</th>\n",
       "      <th>approved_wh_govt_certificate</th>\n",
       "      <th>wh_breakdown_l3m</th>\n",
       "      <th>govt_check_l3m</th>\n",
       "      <th>product_wg_ton</th>\n",
       "    </tr>\n",
       "  </thead>\n",
       "  <tbody>\n",
       "    <tr>\n",
       "      <th>0</th>\n",
       "      <td>0</td>\n",
       "      <td>WH_100000</td>\n",
       "      <td>EID_50000</td>\n",
       "      <td>Urban</td>\n",
       "      <td>Small</td>\n",
       "      <td>West</td>\n",
       "      <td>Zone 6</td>\n",
       "      <td>3</td>\n",
       "      <td>1</td>\n",
       "      <td>2</td>\n",
       "      <td>...</td>\n",
       "      <td>1</td>\n",
       "      <td>91</td>\n",
       "      <td>29.0</td>\n",
       "      <td>NaN</td>\n",
       "      <td>13</td>\n",
       "      <td>0</td>\n",
       "      <td>A</td>\n",
       "      <td>5</td>\n",
       "      <td>15</td>\n",
       "      <td>17115</td>\n",
       "    </tr>\n",
       "    <tr>\n",
       "      <th>1</th>\n",
       "      <td>1</td>\n",
       "      <td>WH_100001</td>\n",
       "      <td>EID_50001</td>\n",
       "      <td>Rural</td>\n",
       "      <td>Large</td>\n",
       "      <td>North</td>\n",
       "      <td>Zone 5</td>\n",
       "      <td>0</td>\n",
       "      <td>0</td>\n",
       "      <td>4</td>\n",
       "      <td>...</td>\n",
       "      <td>1</td>\n",
       "      <td>210</td>\n",
       "      <td>31.0</td>\n",
       "      <td>NaN</td>\n",
       "      <td>4</td>\n",
       "      <td>0</td>\n",
       "      <td>A</td>\n",
       "      <td>3</td>\n",
       "      <td>17</td>\n",
       "      <td>5074</td>\n",
       "    </tr>\n",
       "    <tr>\n",
       "      <th>2</th>\n",
       "      <td>2</td>\n",
       "      <td>WH_100002</td>\n",
       "      <td>EID_50002</td>\n",
       "      <td>Rural</td>\n",
       "      <td>Mid</td>\n",
       "      <td>South</td>\n",
       "      <td>Zone 2</td>\n",
       "      <td>1</td>\n",
       "      <td>0</td>\n",
       "      <td>4</td>\n",
       "      <td>...</td>\n",
       "      <td>0</td>\n",
       "      <td>161</td>\n",
       "      <td>37.0</td>\n",
       "      <td>NaN</td>\n",
       "      <td>17</td>\n",
       "      <td>0</td>\n",
       "      <td>A</td>\n",
       "      <td>6</td>\n",
       "      <td>22</td>\n",
       "      <td>23137</td>\n",
       "    </tr>\n",
       "    <tr>\n",
       "      <th>3</th>\n",
       "      <td>3</td>\n",
       "      <td>WH_100003</td>\n",
       "      <td>EID_50003</td>\n",
       "      <td>Rural</td>\n",
       "      <td>Mid</td>\n",
       "      <td>North</td>\n",
       "      <td>Zone 3</td>\n",
       "      <td>7</td>\n",
       "      <td>4</td>\n",
       "      <td>2</td>\n",
       "      <td>...</td>\n",
       "      <td>0</td>\n",
       "      <td>103</td>\n",
       "      <td>21.0</td>\n",
       "      <td>NaN</td>\n",
       "      <td>17</td>\n",
       "      <td>1</td>\n",
       "      <td>A+</td>\n",
       "      <td>3</td>\n",
       "      <td>27</td>\n",
       "      <td>22115</td>\n",
       "    </tr>\n",
       "    <tr>\n",
       "      <th>4</th>\n",
       "      <td>4</td>\n",
       "      <td>WH_100004</td>\n",
       "      <td>EID_50004</td>\n",
       "      <td>Rural</td>\n",
       "      <td>Large</td>\n",
       "      <td>North</td>\n",
       "      <td>Zone 5</td>\n",
       "      <td>3</td>\n",
       "      <td>1</td>\n",
       "      <td>2</td>\n",
       "      <td>...</td>\n",
       "      <td>1</td>\n",
       "      <td>112</td>\n",
       "      <td>25.0</td>\n",
       "      <td>2009.0</td>\n",
       "      <td>18</td>\n",
       "      <td>0</td>\n",
       "      <td>C</td>\n",
       "      <td>6</td>\n",
       "      <td>24</td>\n",
       "      <td>24071</td>\n",
       "    </tr>\n",
       "    <tr>\n",
       "      <th>...</th>\n",
       "      <td>...</td>\n",
       "      <td>...</td>\n",
       "      <td>...</td>\n",
       "      <td>...</td>\n",
       "      <td>...</td>\n",
       "      <td>...</td>\n",
       "      <td>...</td>\n",
       "      <td>...</td>\n",
       "      <td>...</td>\n",
       "      <td>...</td>\n",
       "      <td>...</td>\n",
       "      <td>...</td>\n",
       "      <td>...</td>\n",
       "      <td>...</td>\n",
       "      <td>...</td>\n",
       "      <td>...</td>\n",
       "      <td>...</td>\n",
       "      <td>...</td>\n",
       "      <td>...</td>\n",
       "      <td>...</td>\n",
       "      <td>...</td>\n",
       "    </tr>\n",
       "    <tr>\n",
       "      <th>16615</th>\n",
       "      <td>16615</td>\n",
       "      <td>WH_116615</td>\n",
       "      <td>EID_66615</td>\n",
       "      <td>Urban</td>\n",
       "      <td>Large</td>\n",
       "      <td>West</td>\n",
       "      <td>Zone 6</td>\n",
       "      <td>3</td>\n",
       "      <td>1</td>\n",
       "      <td>6</td>\n",
       "      <td>...</td>\n",
       "      <td>0</td>\n",
       "      <td>240</td>\n",
       "      <td>19.0</td>\n",
       "      <td>2009.0</td>\n",
       "      <td>14</td>\n",
       "      <td>0</td>\n",
       "      <td>B+</td>\n",
       "      <td>5</td>\n",
       "      <td>23</td>\n",
       "      <td>16094</td>\n",
       "    </tr>\n",
       "    <tr>\n",
       "      <th>16616</th>\n",
       "      <td>16616</td>\n",
       "      <td>WH_116616</td>\n",
       "      <td>EID_66616</td>\n",
       "      <td>Urban</td>\n",
       "      <td>Large</td>\n",
       "      <td>North</td>\n",
       "      <td>Zone 5</td>\n",
       "      <td>2</td>\n",
       "      <td>0</td>\n",
       "      <td>2</td>\n",
       "      <td>...</td>\n",
       "      <td>1</td>\n",
       "      <td>164</td>\n",
       "      <td>30.0</td>\n",
       "      <td>NaN</td>\n",
       "      <td>17</td>\n",
       "      <td>0</td>\n",
       "      <td>B+</td>\n",
       "      <td>6</td>\n",
       "      <td>24</td>\n",
       "      <td>21113</td>\n",
       "    </tr>\n",
       "    <tr>\n",
       "      <th>16617</th>\n",
       "      <td>16617</td>\n",
       "      <td>WH_116617</td>\n",
       "      <td>EID_66617</td>\n",
       "      <td>Rural</td>\n",
       "      <td>Large</td>\n",
       "      <td>North</td>\n",
       "      <td>Zone 6</td>\n",
       "      <td>5</td>\n",
       "      <td>0</td>\n",
       "      <td>4</td>\n",
       "      <td>...</td>\n",
       "      <td>1</td>\n",
       "      <td>211</td>\n",
       "      <td>24.0</td>\n",
       "      <td>2003.0</td>\n",
       "      <td>24</td>\n",
       "      <td>1</td>\n",
       "      <td>B</td>\n",
       "      <td>5</td>\n",
       "      <td>29</td>\n",
       "      <td>28117</td>\n",
       "    </tr>\n",
       "    <tr>\n",
       "      <th>16618</th>\n",
       "      <td>16618</td>\n",
       "      <td>WH_116618</td>\n",
       "      <td>EID_66618</td>\n",
       "      <td>Rural</td>\n",
       "      <td>Small</td>\n",
       "      <td>West</td>\n",
       "      <td>Zone 6</td>\n",
       "      <td>3</td>\n",
       "      <td>2</td>\n",
       "      <td>3</td>\n",
       "      <td>...</td>\n",
       "      <td>1</td>\n",
       "      <td>119</td>\n",
       "      <td>NaN</td>\n",
       "      <td>2007.0</td>\n",
       "      <td>16</td>\n",
       "      <td>0</td>\n",
       "      <td>A</td>\n",
       "      <td>5</td>\n",
       "      <td>15</td>\n",
       "      <td>21103</td>\n",
       "    </tr>\n",
       "    <tr>\n",
       "      <th>16619</th>\n",
       "      <td>16619</td>\n",
       "      <td>WH_116619</td>\n",
       "      <td>EID_66619</td>\n",
       "      <td>Rural</td>\n",
       "      <td>Large</td>\n",
       "      <td>West</td>\n",
       "      <td>Zone 5</td>\n",
       "      <td>4</td>\n",
       "      <td>0</td>\n",
       "      <td>6</td>\n",
       "      <td>...</td>\n",
       "      <td>1</td>\n",
       "      <td>261</td>\n",
       "      <td>34.0</td>\n",
       "      <td>2001.0</td>\n",
       "      <td>32</td>\n",
       "      <td>0</td>\n",
       "      <td>B+</td>\n",
       "      <td>4</td>\n",
       "      <td>10</td>\n",
       "      <td>38097</td>\n",
       "    </tr>\n",
       "  </tbody>\n",
       "</table>\n",
       "<p>16620 rows × 25 columns</p>\n",
       "</div>"
      ],
      "text/plain": [
       "       Unnamed: 0 Ware_house_ID WH_Manager_ID Location_type WH_capacity_size  \\\n",
       "0               0     WH_100000     EID_50000         Urban            Small   \n",
       "1               1     WH_100001     EID_50001         Rural            Large   \n",
       "2               2     WH_100002     EID_50002         Rural              Mid   \n",
       "3               3     WH_100003     EID_50003         Rural              Mid   \n",
       "4               4     WH_100004     EID_50004         Rural            Large   \n",
       "...           ...           ...           ...           ...              ...   \n",
       "16615       16615     WH_116615     EID_66615         Urban            Large   \n",
       "16616       16616     WH_116616     EID_66616         Urban            Large   \n",
       "16617       16617     WH_116617     EID_66617         Rural            Large   \n",
       "16618       16618     WH_116618     EID_66618         Rural            Small   \n",
       "16619       16619     WH_116619     EID_66619         Rural            Large   \n",
       "\n",
       "        zone WH_regional_zone  num_refill_req_l3m  transport_issue_l1y  \\\n",
       "0       West           Zone 6                   3                    1   \n",
       "1      North           Zone 5                   0                    0   \n",
       "2      South           Zone 2                   1                    0   \n",
       "3      North           Zone 3                   7                    4   \n",
       "4      North           Zone 5                   3                    1   \n",
       "...      ...              ...                 ...                  ...   \n",
       "16615   West           Zone 6                   3                    1   \n",
       "16616  North           Zone 5                   2                    0   \n",
       "16617  North           Zone 6                   5                    0   \n",
       "16618   West           Zone 6                   3                    2   \n",
       "16619   West           Zone 5                   4                    0   \n",
       "\n",
       "       Competitor_in_mkt  ...  electric_supply dist_from_hub  workers_num  \\\n",
       "0                      2  ...                1            91         29.0   \n",
       "1                      4  ...                1           210         31.0   \n",
       "2                      4  ...                0           161         37.0   \n",
       "3                      2  ...                0           103         21.0   \n",
       "4                      2  ...                1           112         25.0   \n",
       "...                  ...  ...              ...           ...          ...   \n",
       "16615                  6  ...                0           240         19.0   \n",
       "16616                  2  ...                1           164         30.0   \n",
       "16617                  4  ...                1           211         24.0   \n",
       "16618                  3  ...                1           119          NaN   \n",
       "16619                  6  ...                1           261         34.0   \n",
       "\n",
       "       wh_est_year  storage_issue_reported_l3m  temp_reg_mach  \\\n",
       "0              NaN                          13              0   \n",
       "1              NaN                           4              0   \n",
       "2              NaN                          17              0   \n",
       "3              NaN                          17              1   \n",
       "4           2009.0                          18              0   \n",
       "...            ...                         ...            ...   \n",
       "16615       2009.0                          14              0   \n",
       "16616          NaN                          17              0   \n",
       "16617       2003.0                          24              1   \n",
       "16618       2007.0                          16              0   \n",
       "16619       2001.0                          32              0   \n",
       "\n",
       "       approved_wh_govt_certificate  wh_breakdown_l3m  govt_check_l3m  \\\n",
       "0                                 A                 5              15   \n",
       "1                                 A                 3              17   \n",
       "2                                 A                 6              22   \n",
       "3                                A+                 3              27   \n",
       "4                                 C                 6              24   \n",
       "...                             ...               ...             ...   \n",
       "16615                            B+                 5              23   \n",
       "16616                            B+                 6              24   \n",
       "16617                             B                 5              29   \n",
       "16618                             A                 5              15   \n",
       "16619                            B+                 4              10   \n",
       "\n",
       "       product_wg_ton  \n",
       "0               17115  \n",
       "1                5074  \n",
       "2               23137  \n",
       "3               22115  \n",
       "4               24071  \n",
       "...               ...  \n",
       "16615           16094  \n",
       "16616           21113  \n",
       "16617           28117  \n",
       "16618           21103  \n",
       "16619           38097  \n",
       "\n",
       "[16620 rows x 25 columns]"
      ]
     },
     "execution_count": 3,
     "metadata": {},
     "output_type": "execute_result"
    }
   ],
   "source": [
    "df"
   ]
  },
  {
   "cell_type": "code",
   "execution_count": 4,
   "id": "606d4e5d",
   "metadata": {},
   "outputs": [],
   "source": [
    "##data cleaning"
   ]
  },
  {
   "cell_type": "code",
   "execution_count": 5,
   "id": "d96fb423",
   "metadata": {},
   "outputs": [],
   "source": [
    "##checking null values"
   ]
  },
  {
   "cell_type": "code",
   "execution_count": 6,
   "id": "4358b642",
   "metadata": {},
   "outputs": [
    {
     "data": {
      "text/html": [
       "<div>\n",
       "<style scoped>\n",
       "    .dataframe tbody tr th:only-of-type {\n",
       "        vertical-align: middle;\n",
       "    }\n",
       "\n",
       "    .dataframe tbody tr th {\n",
       "        vertical-align: top;\n",
       "    }\n",
       "\n",
       "    .dataframe thead th {\n",
       "        text-align: right;\n",
       "    }\n",
       "</style>\n",
       "<table border=\"1\" class=\"dataframe\">\n",
       "  <thead>\n",
       "    <tr style=\"text-align: right;\">\n",
       "      <th></th>\n",
       "      <th>Unnamed: 0</th>\n",
       "      <th>Ware_house_ID</th>\n",
       "      <th>WH_Manager_ID</th>\n",
       "      <th>Location_type</th>\n",
       "      <th>WH_capacity_size</th>\n",
       "      <th>zone</th>\n",
       "      <th>WH_regional_zone</th>\n",
       "      <th>num_refill_req_l3m</th>\n",
       "      <th>transport_issue_l1y</th>\n",
       "      <th>Competitor_in_mkt</th>\n",
       "      <th>...</th>\n",
       "      <th>electric_supply</th>\n",
       "      <th>dist_from_hub</th>\n",
       "      <th>workers_num</th>\n",
       "      <th>wh_est_year</th>\n",
       "      <th>storage_issue_reported_l3m</th>\n",
       "      <th>temp_reg_mach</th>\n",
       "      <th>approved_wh_govt_certificate</th>\n",
       "      <th>wh_breakdown_l3m</th>\n",
       "      <th>govt_check_l3m</th>\n",
       "      <th>product_wg_ton</th>\n",
       "    </tr>\n",
       "  </thead>\n",
       "  <tbody>\n",
       "    <tr>\n",
       "      <th>0</th>\n",
       "      <td>False</td>\n",
       "      <td>False</td>\n",
       "      <td>False</td>\n",
       "      <td>False</td>\n",
       "      <td>False</td>\n",
       "      <td>False</td>\n",
       "      <td>False</td>\n",
       "      <td>False</td>\n",
       "      <td>False</td>\n",
       "      <td>False</td>\n",
       "      <td>...</td>\n",
       "      <td>False</td>\n",
       "      <td>False</td>\n",
       "      <td>False</td>\n",
       "      <td>True</td>\n",
       "      <td>False</td>\n",
       "      <td>False</td>\n",
       "      <td>False</td>\n",
       "      <td>False</td>\n",
       "      <td>False</td>\n",
       "      <td>False</td>\n",
       "    </tr>\n",
       "    <tr>\n",
       "      <th>1</th>\n",
       "      <td>False</td>\n",
       "      <td>False</td>\n",
       "      <td>False</td>\n",
       "      <td>False</td>\n",
       "      <td>False</td>\n",
       "      <td>False</td>\n",
       "      <td>False</td>\n",
       "      <td>False</td>\n",
       "      <td>False</td>\n",
       "      <td>False</td>\n",
       "      <td>...</td>\n",
       "      <td>False</td>\n",
       "      <td>False</td>\n",
       "      <td>False</td>\n",
       "      <td>True</td>\n",
       "      <td>False</td>\n",
       "      <td>False</td>\n",
       "      <td>False</td>\n",
       "      <td>False</td>\n",
       "      <td>False</td>\n",
       "      <td>False</td>\n",
       "    </tr>\n",
       "    <tr>\n",
       "      <th>2</th>\n",
       "      <td>False</td>\n",
       "      <td>False</td>\n",
       "      <td>False</td>\n",
       "      <td>False</td>\n",
       "      <td>False</td>\n",
       "      <td>False</td>\n",
       "      <td>False</td>\n",
       "      <td>False</td>\n",
       "      <td>False</td>\n",
       "      <td>False</td>\n",
       "      <td>...</td>\n",
       "      <td>False</td>\n",
       "      <td>False</td>\n",
       "      <td>False</td>\n",
       "      <td>True</td>\n",
       "      <td>False</td>\n",
       "      <td>False</td>\n",
       "      <td>False</td>\n",
       "      <td>False</td>\n",
       "      <td>False</td>\n",
       "      <td>False</td>\n",
       "    </tr>\n",
       "    <tr>\n",
       "      <th>3</th>\n",
       "      <td>False</td>\n",
       "      <td>False</td>\n",
       "      <td>False</td>\n",
       "      <td>False</td>\n",
       "      <td>False</td>\n",
       "      <td>False</td>\n",
       "      <td>False</td>\n",
       "      <td>False</td>\n",
       "      <td>False</td>\n",
       "      <td>False</td>\n",
       "      <td>...</td>\n",
       "      <td>False</td>\n",
       "      <td>False</td>\n",
       "      <td>False</td>\n",
       "      <td>True</td>\n",
       "      <td>False</td>\n",
       "      <td>False</td>\n",
       "      <td>False</td>\n",
       "      <td>False</td>\n",
       "      <td>False</td>\n",
       "      <td>False</td>\n",
       "    </tr>\n",
       "    <tr>\n",
       "      <th>4</th>\n",
       "      <td>False</td>\n",
       "      <td>False</td>\n",
       "      <td>False</td>\n",
       "      <td>False</td>\n",
       "      <td>False</td>\n",
       "      <td>False</td>\n",
       "      <td>False</td>\n",
       "      <td>False</td>\n",
       "      <td>False</td>\n",
       "      <td>False</td>\n",
       "      <td>...</td>\n",
       "      <td>False</td>\n",
       "      <td>False</td>\n",
       "      <td>False</td>\n",
       "      <td>False</td>\n",
       "      <td>False</td>\n",
       "      <td>False</td>\n",
       "      <td>False</td>\n",
       "      <td>False</td>\n",
       "      <td>False</td>\n",
       "      <td>False</td>\n",
       "    </tr>\n",
       "    <tr>\n",
       "      <th>...</th>\n",
       "      <td>...</td>\n",
       "      <td>...</td>\n",
       "      <td>...</td>\n",
       "      <td>...</td>\n",
       "      <td>...</td>\n",
       "      <td>...</td>\n",
       "      <td>...</td>\n",
       "      <td>...</td>\n",
       "      <td>...</td>\n",
       "      <td>...</td>\n",
       "      <td>...</td>\n",
       "      <td>...</td>\n",
       "      <td>...</td>\n",
       "      <td>...</td>\n",
       "      <td>...</td>\n",
       "      <td>...</td>\n",
       "      <td>...</td>\n",
       "      <td>...</td>\n",
       "      <td>...</td>\n",
       "      <td>...</td>\n",
       "      <td>...</td>\n",
       "    </tr>\n",
       "    <tr>\n",
       "      <th>16615</th>\n",
       "      <td>False</td>\n",
       "      <td>False</td>\n",
       "      <td>False</td>\n",
       "      <td>False</td>\n",
       "      <td>False</td>\n",
       "      <td>False</td>\n",
       "      <td>False</td>\n",
       "      <td>False</td>\n",
       "      <td>False</td>\n",
       "      <td>False</td>\n",
       "      <td>...</td>\n",
       "      <td>False</td>\n",
       "      <td>False</td>\n",
       "      <td>False</td>\n",
       "      <td>False</td>\n",
       "      <td>False</td>\n",
       "      <td>False</td>\n",
       "      <td>False</td>\n",
       "      <td>False</td>\n",
       "      <td>False</td>\n",
       "      <td>False</td>\n",
       "    </tr>\n",
       "    <tr>\n",
       "      <th>16616</th>\n",
       "      <td>False</td>\n",
       "      <td>False</td>\n",
       "      <td>False</td>\n",
       "      <td>False</td>\n",
       "      <td>False</td>\n",
       "      <td>False</td>\n",
       "      <td>False</td>\n",
       "      <td>False</td>\n",
       "      <td>False</td>\n",
       "      <td>False</td>\n",
       "      <td>...</td>\n",
       "      <td>False</td>\n",
       "      <td>False</td>\n",
       "      <td>False</td>\n",
       "      <td>True</td>\n",
       "      <td>False</td>\n",
       "      <td>False</td>\n",
       "      <td>False</td>\n",
       "      <td>False</td>\n",
       "      <td>False</td>\n",
       "      <td>False</td>\n",
       "    </tr>\n",
       "    <tr>\n",
       "      <th>16617</th>\n",
       "      <td>False</td>\n",
       "      <td>False</td>\n",
       "      <td>False</td>\n",
       "      <td>False</td>\n",
       "      <td>False</td>\n",
       "      <td>False</td>\n",
       "      <td>False</td>\n",
       "      <td>False</td>\n",
       "      <td>False</td>\n",
       "      <td>False</td>\n",
       "      <td>...</td>\n",
       "      <td>False</td>\n",
       "      <td>False</td>\n",
       "      <td>False</td>\n",
       "      <td>False</td>\n",
       "      <td>False</td>\n",
       "      <td>False</td>\n",
       "      <td>False</td>\n",
       "      <td>False</td>\n",
       "      <td>False</td>\n",
       "      <td>False</td>\n",
       "    </tr>\n",
       "    <tr>\n",
       "      <th>16618</th>\n",
       "      <td>False</td>\n",
       "      <td>False</td>\n",
       "      <td>False</td>\n",
       "      <td>False</td>\n",
       "      <td>False</td>\n",
       "      <td>False</td>\n",
       "      <td>False</td>\n",
       "      <td>False</td>\n",
       "      <td>False</td>\n",
       "      <td>False</td>\n",
       "      <td>...</td>\n",
       "      <td>False</td>\n",
       "      <td>False</td>\n",
       "      <td>True</td>\n",
       "      <td>False</td>\n",
       "      <td>False</td>\n",
       "      <td>False</td>\n",
       "      <td>False</td>\n",
       "      <td>False</td>\n",
       "      <td>False</td>\n",
       "      <td>False</td>\n",
       "    </tr>\n",
       "    <tr>\n",
       "      <th>16619</th>\n",
       "      <td>False</td>\n",
       "      <td>False</td>\n",
       "      <td>False</td>\n",
       "      <td>False</td>\n",
       "      <td>False</td>\n",
       "      <td>False</td>\n",
       "      <td>False</td>\n",
       "      <td>False</td>\n",
       "      <td>False</td>\n",
       "      <td>False</td>\n",
       "      <td>...</td>\n",
       "      <td>False</td>\n",
       "      <td>False</td>\n",
       "      <td>False</td>\n",
       "      <td>False</td>\n",
       "      <td>False</td>\n",
       "      <td>False</td>\n",
       "      <td>False</td>\n",
       "      <td>False</td>\n",
       "      <td>False</td>\n",
       "      <td>False</td>\n",
       "    </tr>\n",
       "  </tbody>\n",
       "</table>\n",
       "<p>16620 rows × 25 columns</p>\n",
       "</div>"
      ],
      "text/plain": [
       "       Unnamed: 0  Ware_house_ID  WH_Manager_ID  Location_type  \\\n",
       "0           False          False          False          False   \n",
       "1           False          False          False          False   \n",
       "2           False          False          False          False   \n",
       "3           False          False          False          False   \n",
       "4           False          False          False          False   \n",
       "...           ...            ...            ...            ...   \n",
       "16615       False          False          False          False   \n",
       "16616       False          False          False          False   \n",
       "16617       False          False          False          False   \n",
       "16618       False          False          False          False   \n",
       "16619       False          False          False          False   \n",
       "\n",
       "       WH_capacity_size   zone  WH_regional_zone  num_refill_req_l3m  \\\n",
       "0                 False  False             False               False   \n",
       "1                 False  False             False               False   \n",
       "2                 False  False             False               False   \n",
       "3                 False  False             False               False   \n",
       "4                 False  False             False               False   \n",
       "...                 ...    ...               ...                 ...   \n",
       "16615             False  False             False               False   \n",
       "16616             False  False             False               False   \n",
       "16617             False  False             False               False   \n",
       "16618             False  False             False               False   \n",
       "16619             False  False             False               False   \n",
       "\n",
       "       transport_issue_l1y  Competitor_in_mkt  ...  electric_supply  \\\n",
       "0                    False              False  ...            False   \n",
       "1                    False              False  ...            False   \n",
       "2                    False              False  ...            False   \n",
       "3                    False              False  ...            False   \n",
       "4                    False              False  ...            False   \n",
       "...                    ...                ...  ...              ...   \n",
       "16615                False              False  ...            False   \n",
       "16616                False              False  ...            False   \n",
       "16617                False              False  ...            False   \n",
       "16618                False              False  ...            False   \n",
       "16619                False              False  ...            False   \n",
       "\n",
       "       dist_from_hub  workers_num  wh_est_year  storage_issue_reported_l3m  \\\n",
       "0              False        False         True                       False   \n",
       "1              False        False         True                       False   \n",
       "2              False        False         True                       False   \n",
       "3              False        False         True                       False   \n",
       "4              False        False        False                       False   \n",
       "...              ...          ...          ...                         ...   \n",
       "16615          False        False        False                       False   \n",
       "16616          False        False         True                       False   \n",
       "16617          False        False        False                       False   \n",
       "16618          False         True        False                       False   \n",
       "16619          False        False        False                       False   \n",
       "\n",
       "       temp_reg_mach  approved_wh_govt_certificate  wh_breakdown_l3m  \\\n",
       "0              False                         False             False   \n",
       "1              False                         False             False   \n",
       "2              False                         False             False   \n",
       "3              False                         False             False   \n",
       "4              False                         False             False   \n",
       "...              ...                           ...               ...   \n",
       "16615          False                         False             False   \n",
       "16616          False                         False             False   \n",
       "16617          False                         False             False   \n",
       "16618          False                         False             False   \n",
       "16619          False                         False             False   \n",
       "\n",
       "       govt_check_l3m  product_wg_ton  \n",
       "0               False           False  \n",
       "1               False           False  \n",
       "2               False           False  \n",
       "3               False           False  \n",
       "4               False           False  \n",
       "...               ...             ...  \n",
       "16615           False           False  \n",
       "16616           False           False  \n",
       "16617           False           False  \n",
       "16618           False           False  \n",
       "16619           False           False  \n",
       "\n",
       "[16620 rows x 25 columns]"
      ]
     },
     "execution_count": 6,
     "metadata": {},
     "output_type": "execute_result"
    }
   ],
   "source": [
    "df.isnull()"
   ]
  },
  {
   "cell_type": "code",
   "execution_count": 7,
   "id": "ca000021",
   "metadata": {},
   "outputs": [],
   "source": [
    "##checking sum of null values"
   ]
  },
  {
   "cell_type": "code",
   "execution_count": 8,
   "id": "8c716e26",
   "metadata": {},
   "outputs": [
    {
     "data": {
      "text/plain": [
       "Unnamed: 0                         0\n",
       "Ware_house_ID                      0\n",
       "WH_Manager_ID                      0\n",
       "Location_type                      0\n",
       "WH_capacity_size                   0\n",
       "zone                               0\n",
       "WH_regional_zone                   0\n",
       "num_refill_req_l3m                 0\n",
       "transport_issue_l1y                0\n",
       "Competitor_in_mkt                  0\n",
       "retail_shop_num                    0\n",
       "wh_owner_type                      0\n",
       "distributor_num                    0\n",
       "flood_impacted                     0\n",
       "flood_proof                        0\n",
       "electric_supply                    0\n",
       "dist_from_hub                      0\n",
       "workers_num                      667\n",
       "wh_est_year                     7860\n",
       "storage_issue_reported_l3m         0\n",
       "temp_reg_mach                      0\n",
       "approved_wh_govt_certificate     599\n",
       "wh_breakdown_l3m                   0\n",
       "govt_check_l3m                     0\n",
       "product_wg_ton                     0\n",
       "dtype: int64"
      ]
     },
     "execution_count": 8,
     "metadata": {},
     "output_type": "execute_result"
    }
   ],
   "source": [
    "df.isnull().sum()"
   ]
  },
  {
   "cell_type": "code",
   "execution_count": 9,
   "id": "6b171824",
   "metadata": {},
   "outputs": [
    {
     "name": "stdout",
     "output_type": "stream",
     "text": [
      "Categorical columns: Index(['Ware_house_ID', 'WH_Manager_ID', 'Location_type', 'WH_capacity_size',\n",
      "       'zone', 'WH_regional_zone', 'wh_owner_type',\n",
      "       'approved_wh_govt_certificate'],\n",
      "      dtype='object')\n",
      "Numerical columns: Index(['Unnamed: 0', 'num_refill_req_l3m', 'transport_issue_l1y',\n",
      "       'Competitor_in_mkt', 'retail_shop_num', 'distributor_num',\n",
      "       'flood_impacted', 'flood_proof', 'electric_supply', 'dist_from_hub',\n",
      "       'workers_num', 'wh_est_year', 'storage_issue_reported_l3m',\n",
      "       'temp_reg_mach', 'wh_breakdown_l3m', 'govt_check_l3m',\n",
      "       'product_wg_ton'],\n",
      "      dtype='object')\n"
     ]
    }
   ],
   "source": [
    "# Separate categorical and numerical columns\n",
    "categorical_columns = df.select_dtypes(include=['object', 'category']).columns\n",
    "numerical_columns = df.select_dtypes(include=['int64', 'float64']).columns\n",
    "\n",
    "# Print the lists of categorical and numerical columns\n",
    "print(\"Categorical columns:\", categorical_columns)\n",
    "print(\"Numerical columns:\", numerical_columns)"
   ]
  },
  {
   "cell_type": "code",
   "execution_count": 10,
   "id": "c9cf1883",
   "metadata": {},
   "outputs": [],
   "source": [
    "##removing unwanted columns"
   ]
  },
  {
   "cell_type": "code",
   "execution_count": 11,
   "id": "7016f623",
   "metadata": {},
   "outputs": [
    {
     "data": {
      "text/plain": [
       "wh_owner_type\n",
       "Company Owned    8975\n",
       "Rented           7645\n",
       "Name: count, dtype: int64"
      ]
     },
     "execution_count": 11,
     "metadata": {},
     "output_type": "execute_result"
    }
   ],
   "source": [
    "df[\"wh_owner_type\"].value_counts()"
   ]
  },
  {
   "cell_type": "code",
   "execution_count": 12,
   "id": "f096a50e",
   "metadata": {},
   "outputs": [
    {
     "data": {
      "text/plain": [
       "approved_wh_govt_certificate\n",
       "C     3638\n",
       "B+    3260\n",
       "B     3220\n",
       "A     3132\n",
       "A+    2771\n",
       "Name: count, dtype: int64"
      ]
     },
     "execution_count": 12,
     "metadata": {},
     "output_type": "execute_result"
    }
   ],
   "source": [
    "df[\"approved_wh_govt_certificate\"].value_counts()"
   ]
  },
  {
   "cell_type": "code",
   "execution_count": null,
   "id": "7b1ae07a",
   "metadata": {},
   "outputs": [],
   "source": [
    "#removing unwanted columns"
   ]
  },
  {
   "cell_type": "code",
   "execution_count": 13,
   "id": "9dc428e2",
   "metadata": {},
   "outputs": [],
   "source": [
    "cols_to_drop=['Unnamed: 0','wh_est_year','workers_num','approved_wh_govt_certificate','Ware_house_ID','WH_Manager_ID']"
   ]
  },
  {
   "cell_type": "code",
   "execution_count": 14,
   "id": "9d9b217b",
   "metadata": {},
   "outputs": [],
   "source": [
    "df.drop(cols_to_drop,axis=1,inplace=True)"
   ]
  },
  {
   "cell_type": "code",
   "execution_count": null,
   "id": "41d17ce6",
   "metadata": {},
   "outputs": [],
   "source": [
    "#data transformation"
   ]
  },
  {
   "cell_type": "code",
   "execution_count": 15,
   "id": "f185839b",
   "metadata": {},
   "outputs": [],
   "source": [
    "from sklearn.preprocessing import LabelEncoder"
   ]
  },
  {
   "cell_type": "code",
   "execution_count": 16,
   "id": "9eea85b9",
   "metadata": {},
   "outputs": [],
   "source": [
    "encoder = LabelEncoder()\n",
    "\n",
    "# Fit and transform the 'Location_Type' column\n",
    "df['Location_type'] = encoder.fit_transform(df['Location_type'])"
   ]
  },
  {
   "cell_type": "code",
   "execution_count": 17,
   "id": "400b18fc",
   "metadata": {},
   "outputs": [],
   "source": [
    "df['WH_capacity_size'] = encoder.fit_transform(df['WH_capacity_size'])"
   ]
  },
  {
   "cell_type": "code",
   "execution_count": 18,
   "id": "b8c0b476",
   "metadata": {},
   "outputs": [
    {
     "data": {
      "text/plain": [
       "zone\n",
       "North    6800\n",
       "West     5320\n",
       "South    4223\n",
       "East      277\n",
       "Name: count, dtype: int64"
      ]
     },
     "execution_count": 18,
     "metadata": {},
     "output_type": "execute_result"
    }
   ],
   "source": [
    "df[\"zone\"].value_counts()"
   ]
  },
  {
   "cell_type": "code",
   "execution_count": 19,
   "id": "dc0d07df",
   "metadata": {},
   "outputs": [],
   "source": [
    "df['zone'] = encoder.fit_transform(df['zone'])"
   ]
  },
  {
   "cell_type": "code",
   "execution_count": 20,
   "id": "e25796cc",
   "metadata": {},
   "outputs": [],
   "source": [
    "df['WH_regional_zone'] = encoder.fit_transform(df['WH_regional_zone'])"
   ]
  },
  {
   "cell_type": "code",
   "execution_count": 21,
   "id": "2c04aad4",
   "metadata": {},
   "outputs": [],
   "source": [
    "df['wh_owner_type'] = encoder.fit_transform(df['wh_owner_type'])"
   ]
  },
  {
   "cell_type": "code",
   "execution_count": 22,
   "id": "cf1b41dc",
   "metadata": {},
   "outputs": [
    {
     "data": {
      "text/plain": [
       "Index(['Location_type', 'WH_capacity_size', 'zone', 'WH_regional_zone',\n",
       "       'num_refill_req_l3m', 'transport_issue_l1y', 'Competitor_in_mkt',\n",
       "       'retail_shop_num', 'wh_owner_type', 'distributor_num', 'flood_impacted',\n",
       "       'flood_proof', 'electric_supply', 'dist_from_hub',\n",
       "       'storage_issue_reported_l3m', 'temp_reg_mach', 'wh_breakdown_l3m',\n",
       "       'govt_check_l3m', 'product_wg_ton'],\n",
       "      dtype='object')"
      ]
     },
     "execution_count": 22,
     "metadata": {},
     "output_type": "execute_result"
    }
   ],
   "source": [
    "df.columns"
   ]
  },
  {
   "cell_type": "code",
   "execution_count": 23,
   "id": "6b5131ca",
   "metadata": {},
   "outputs": [
    {
     "data": {
      "text/html": [
       "<div>\n",
       "<style scoped>\n",
       "    .dataframe tbody tr th:only-of-type {\n",
       "        vertical-align: middle;\n",
       "    }\n",
       "\n",
       "    .dataframe tbody tr th {\n",
       "        vertical-align: top;\n",
       "    }\n",
       "\n",
       "    .dataframe thead th {\n",
       "        text-align: right;\n",
       "    }\n",
       "</style>\n",
       "<table border=\"1\" class=\"dataframe\">\n",
       "  <thead>\n",
       "    <tr style=\"text-align: right;\">\n",
       "      <th></th>\n",
       "      <th>Location_type</th>\n",
       "      <th>WH_capacity_size</th>\n",
       "      <th>zone</th>\n",
       "      <th>WH_regional_zone</th>\n",
       "      <th>num_refill_req_l3m</th>\n",
       "      <th>transport_issue_l1y</th>\n",
       "      <th>Competitor_in_mkt</th>\n",
       "      <th>retail_shop_num</th>\n",
       "      <th>wh_owner_type</th>\n",
       "      <th>distributor_num</th>\n",
       "      <th>flood_impacted</th>\n",
       "      <th>flood_proof</th>\n",
       "      <th>electric_supply</th>\n",
       "      <th>dist_from_hub</th>\n",
       "      <th>storage_issue_reported_l3m</th>\n",
       "      <th>temp_reg_mach</th>\n",
       "      <th>wh_breakdown_l3m</th>\n",
       "      <th>govt_check_l3m</th>\n",
       "      <th>product_wg_ton</th>\n",
       "    </tr>\n",
       "  </thead>\n",
       "  <tbody>\n",
       "    <tr>\n",
       "      <th>0</th>\n",
       "      <td>1</td>\n",
       "      <td>2</td>\n",
       "      <td>3</td>\n",
       "      <td>5</td>\n",
       "      <td>3</td>\n",
       "      <td>1</td>\n",
       "      <td>2</td>\n",
       "      <td>4651</td>\n",
       "      <td>1</td>\n",
       "      <td>24</td>\n",
       "      <td>0</td>\n",
       "      <td>1</td>\n",
       "      <td>1</td>\n",
       "      <td>91</td>\n",
       "      <td>13</td>\n",
       "      <td>0</td>\n",
       "      <td>5</td>\n",
       "      <td>15</td>\n",
       "      <td>17115</td>\n",
       "    </tr>\n",
       "    <tr>\n",
       "      <th>1</th>\n",
       "      <td>0</td>\n",
       "      <td>0</td>\n",
       "      <td>1</td>\n",
       "      <td>4</td>\n",
       "      <td>0</td>\n",
       "      <td>0</td>\n",
       "      <td>4</td>\n",
       "      <td>6217</td>\n",
       "      <td>0</td>\n",
       "      <td>47</td>\n",
       "      <td>0</td>\n",
       "      <td>0</td>\n",
       "      <td>1</td>\n",
       "      <td>210</td>\n",
       "      <td>4</td>\n",
       "      <td>0</td>\n",
       "      <td>3</td>\n",
       "      <td>17</td>\n",
       "      <td>5074</td>\n",
       "    </tr>\n",
       "    <tr>\n",
       "      <th>2</th>\n",
       "      <td>0</td>\n",
       "      <td>1</td>\n",
       "      <td>2</td>\n",
       "      <td>1</td>\n",
       "      <td>1</td>\n",
       "      <td>0</td>\n",
       "      <td>4</td>\n",
       "      <td>4306</td>\n",
       "      <td>0</td>\n",
       "      <td>64</td>\n",
       "      <td>0</td>\n",
       "      <td>0</td>\n",
       "      <td>0</td>\n",
       "      <td>161</td>\n",
       "      <td>17</td>\n",
       "      <td>0</td>\n",
       "      <td>6</td>\n",
       "      <td>22</td>\n",
       "      <td>23137</td>\n",
       "    </tr>\n",
       "    <tr>\n",
       "      <th>3</th>\n",
       "      <td>0</td>\n",
       "      <td>1</td>\n",
       "      <td>1</td>\n",
       "      <td>2</td>\n",
       "      <td>7</td>\n",
       "      <td>4</td>\n",
       "      <td>2</td>\n",
       "      <td>6000</td>\n",
       "      <td>1</td>\n",
       "      <td>50</td>\n",
       "      <td>0</td>\n",
       "      <td>0</td>\n",
       "      <td>0</td>\n",
       "      <td>103</td>\n",
       "      <td>17</td>\n",
       "      <td>1</td>\n",
       "      <td>3</td>\n",
       "      <td>27</td>\n",
       "      <td>22115</td>\n",
       "    </tr>\n",
       "    <tr>\n",
       "      <th>4</th>\n",
       "      <td>0</td>\n",
       "      <td>0</td>\n",
       "      <td>1</td>\n",
       "      <td>4</td>\n",
       "      <td>3</td>\n",
       "      <td>1</td>\n",
       "      <td>2</td>\n",
       "      <td>4740</td>\n",
       "      <td>0</td>\n",
       "      <td>42</td>\n",
       "      <td>1</td>\n",
       "      <td>0</td>\n",
       "      <td>1</td>\n",
       "      <td>112</td>\n",
       "      <td>18</td>\n",
       "      <td>0</td>\n",
       "      <td>6</td>\n",
       "      <td>24</td>\n",
       "      <td>24071</td>\n",
       "    </tr>\n",
       "    <tr>\n",
       "      <th>...</th>\n",
       "      <td>...</td>\n",
       "      <td>...</td>\n",
       "      <td>...</td>\n",
       "      <td>...</td>\n",
       "      <td>...</td>\n",
       "      <td>...</td>\n",
       "      <td>...</td>\n",
       "      <td>...</td>\n",
       "      <td>...</td>\n",
       "      <td>...</td>\n",
       "      <td>...</td>\n",
       "      <td>...</td>\n",
       "      <td>...</td>\n",
       "      <td>...</td>\n",
       "      <td>...</td>\n",
       "      <td>...</td>\n",
       "      <td>...</td>\n",
       "      <td>...</td>\n",
       "      <td>...</td>\n",
       "    </tr>\n",
       "    <tr>\n",
       "      <th>16615</th>\n",
       "      <td>1</td>\n",
       "      <td>0</td>\n",
       "      <td>3</td>\n",
       "      <td>5</td>\n",
       "      <td>3</td>\n",
       "      <td>1</td>\n",
       "      <td>6</td>\n",
       "      <td>4779</td>\n",
       "      <td>1</td>\n",
       "      <td>70</td>\n",
       "      <td>0</td>\n",
       "      <td>0</td>\n",
       "      <td>0</td>\n",
       "      <td>240</td>\n",
       "      <td>14</td>\n",
       "      <td>0</td>\n",
       "      <td>5</td>\n",
       "      <td>23</td>\n",
       "      <td>16094</td>\n",
       "    </tr>\n",
       "    <tr>\n",
       "      <th>16616</th>\n",
       "      <td>1</td>\n",
       "      <td>0</td>\n",
       "      <td>1</td>\n",
       "      <td>4</td>\n",
       "      <td>2</td>\n",
       "      <td>0</td>\n",
       "      <td>2</td>\n",
       "      <td>5718</td>\n",
       "      <td>0</td>\n",
       "      <td>26</td>\n",
       "      <td>0</td>\n",
       "      <td>0</td>\n",
       "      <td>1</td>\n",
       "      <td>164</td>\n",
       "      <td>17</td>\n",
       "      <td>0</td>\n",
       "      <td>6</td>\n",
       "      <td>24</td>\n",
       "      <td>21113</td>\n",
       "    </tr>\n",
       "    <tr>\n",
       "      <th>16617</th>\n",
       "      <td>0</td>\n",
       "      <td>0</td>\n",
       "      <td>1</td>\n",
       "      <td>5</td>\n",
       "      <td>5</td>\n",
       "      <td>0</td>\n",
       "      <td>4</td>\n",
       "      <td>4514</td>\n",
       "      <td>0</td>\n",
       "      <td>50</td>\n",
       "      <td>1</td>\n",
       "      <td>0</td>\n",
       "      <td>1</td>\n",
       "      <td>211</td>\n",
       "      <td>24</td>\n",
       "      <td>1</td>\n",
       "      <td>5</td>\n",
       "      <td>29</td>\n",
       "      <td>28117</td>\n",
       "    </tr>\n",
       "    <tr>\n",
       "      <th>16618</th>\n",
       "      <td>0</td>\n",
       "      <td>2</td>\n",
       "      <td>3</td>\n",
       "      <td>5</td>\n",
       "      <td>3</td>\n",
       "      <td>2</td>\n",
       "      <td>3</td>\n",
       "      <td>5829</td>\n",
       "      <td>1</td>\n",
       "      <td>59</td>\n",
       "      <td>1</td>\n",
       "      <td>0</td>\n",
       "      <td>1</td>\n",
       "      <td>119</td>\n",
       "      <td>16</td>\n",
       "      <td>0</td>\n",
       "      <td>5</td>\n",
       "      <td>15</td>\n",
       "      <td>21103</td>\n",
       "    </tr>\n",
       "    <tr>\n",
       "      <th>16619</th>\n",
       "      <td>0</td>\n",
       "      <td>0</td>\n",
       "      <td>3</td>\n",
       "      <td>4</td>\n",
       "      <td>4</td>\n",
       "      <td>0</td>\n",
       "      <td>6</td>\n",
       "      <td>3751</td>\n",
       "      <td>1</td>\n",
       "      <td>49</td>\n",
       "      <td>0</td>\n",
       "      <td>0</td>\n",
       "      <td>1</td>\n",
       "      <td>261</td>\n",
       "      <td>32</td>\n",
       "      <td>0</td>\n",
       "      <td>4</td>\n",
       "      <td>10</td>\n",
       "      <td>38097</td>\n",
       "    </tr>\n",
       "  </tbody>\n",
       "</table>\n",
       "<p>16620 rows × 19 columns</p>\n",
       "</div>"
      ],
      "text/plain": [
       "       Location_type  WH_capacity_size  zone  WH_regional_zone  \\\n",
       "0                  1                 2     3                 5   \n",
       "1                  0                 0     1                 4   \n",
       "2                  0                 1     2                 1   \n",
       "3                  0                 1     1                 2   \n",
       "4                  0                 0     1                 4   \n",
       "...              ...               ...   ...               ...   \n",
       "16615              1                 0     3                 5   \n",
       "16616              1                 0     1                 4   \n",
       "16617              0                 0     1                 5   \n",
       "16618              0                 2     3                 5   \n",
       "16619              0                 0     3                 4   \n",
       "\n",
       "       num_refill_req_l3m  transport_issue_l1y  Competitor_in_mkt  \\\n",
       "0                       3                    1                  2   \n",
       "1                       0                    0                  4   \n",
       "2                       1                    0                  4   \n",
       "3                       7                    4                  2   \n",
       "4                       3                    1                  2   \n",
       "...                   ...                  ...                ...   \n",
       "16615                   3                    1                  6   \n",
       "16616                   2                    0                  2   \n",
       "16617                   5                    0                  4   \n",
       "16618                   3                    2                  3   \n",
       "16619                   4                    0                  6   \n",
       "\n",
       "       retail_shop_num  wh_owner_type  distributor_num  flood_impacted  \\\n",
       "0                 4651              1               24               0   \n",
       "1                 6217              0               47               0   \n",
       "2                 4306              0               64               0   \n",
       "3                 6000              1               50               0   \n",
       "4                 4740              0               42               1   \n",
       "...                ...            ...              ...             ...   \n",
       "16615             4779              1               70               0   \n",
       "16616             5718              0               26               0   \n",
       "16617             4514              0               50               1   \n",
       "16618             5829              1               59               1   \n",
       "16619             3751              1               49               0   \n",
       "\n",
       "       flood_proof  electric_supply  dist_from_hub  \\\n",
       "0                1                1             91   \n",
       "1                0                1            210   \n",
       "2                0                0            161   \n",
       "3                0                0            103   \n",
       "4                0                1            112   \n",
       "...            ...              ...            ...   \n",
       "16615            0                0            240   \n",
       "16616            0                1            164   \n",
       "16617            0                1            211   \n",
       "16618            0                1            119   \n",
       "16619            0                1            261   \n",
       "\n",
       "       storage_issue_reported_l3m  temp_reg_mach  wh_breakdown_l3m  \\\n",
       "0                              13              0                 5   \n",
       "1                               4              0                 3   \n",
       "2                              17              0                 6   \n",
       "3                              17              1                 3   \n",
       "4                              18              0                 6   \n",
       "...                           ...            ...               ...   \n",
       "16615                          14              0                 5   \n",
       "16616                          17              0                 6   \n",
       "16617                          24              1                 5   \n",
       "16618                          16              0                 5   \n",
       "16619                          32              0                 4   \n",
       "\n",
       "       govt_check_l3m  product_wg_ton  \n",
       "0                  15           17115  \n",
       "1                  17            5074  \n",
       "2                  22           23137  \n",
       "3                  27           22115  \n",
       "4                  24           24071  \n",
       "...               ...             ...  \n",
       "16615              23           16094  \n",
       "16616              24           21113  \n",
       "16617              29           28117  \n",
       "16618              15           21103  \n",
       "16619              10           38097  \n",
       "\n",
       "[16620 rows x 19 columns]"
      ]
     },
     "execution_count": 23,
     "metadata": {},
     "output_type": "execute_result"
    }
   ],
   "source": [
    "df"
   ]
  },
  {
   "cell_type": "code",
   "execution_count": 24,
   "id": "e44c36fc",
   "metadata": {},
   "outputs": [],
   "source": [
    "##data analysis and visualisations"
   ]
  },
  {
   "cell_type": "code",
   "execution_count": null,
   "id": "9e4dda55",
   "metadata": {},
   "outputs": [],
   "source": [
    "#zone Vs WH capacity size"
   ]
  },
  {
   "cell_type": "code",
   "execution_count": 25,
   "id": "aac096e7",
   "metadata": {},
   "outputs": [
    {
     "data": {
      "image/png": "[encoded data removed]",
      "text/plain": [
       "<Figure size 640x480 with 1 Axes>"
      ]
     },
     "metadata": {},
     "output_type": "display_data"
    }
   ],
   "source": [
    "plt.hist(df, bins=6, edgecolor='black')\n",
    "plt.xlabel('zone')\n",
    "plt.ylabel('WH_capacity_size')\n",
    "plt.title('Histogram')\n",
    "plt.grid(True)\n",
    "plt.show()"
   ]
  },
  {
   "cell_type": "code",
   "execution_count": null,
   "id": "bfe83d10",
   "metadata": {},
   "outputs": [],
   "source": [
    "#WH regional zone Vs Product weight"
   ]
  },
  {
   "cell_type": "code",
   "execution_count": 26,
   "id": "9108bcca",
   "metadata": {},
   "outputs": [
    {
     "data": {
      "image/png": "[encoded data removed]",
      "text/plain": [
       "<Figure size 640x480 with 1 Axes>"
      ]
     },
     "metadata": {},
     "output_type": "display_data"
    }
   ],
   "source": [
    "plt.hist(df, bins=6, edgecolor='black')\n",
    "plt.xlabel('WH_regional_zone')\n",
    "plt.ylabel('product_wg_ton')\n",
    "plt.title('Histogram')\n",
    "plt.grid(True)\n",
    "plt.show()"
   ]
  },
  {
   "cell_type": "code",
   "execution_count": null,
   "id": "e4f0e253",
   "metadata": {},
   "outputs": [],
   "source": [
    "#WH regional zone Vs count of issues"
   ]
  },
  {
   "cell_type": "code",
   "execution_count": 27,
   "id": "defa0f6e",
   "metadata": {},
   "outputs": [
    {
     "data": {
      "image/png": "[encoded data removed]",
      "text/plain": [
       "<Figure size 640x480 with 1 Axes>"
      ]
     },
     "metadata": {},
     "output_type": "display_data"
    }
   ],
   "source": [
    "issues_count = ['num_refill_req_l3m', 'transport_issue_l1y', 'Competitor_in_mkt']\n",
    "column_sums = df[issues_count].sum().plot(kind='bar')\n",
    "plt.xlabel(\"issues\")\n",
    "plt.ylabel(\"WH_regional_zone\")\n",
    "plt.title(\"Count of issues in Warehouse zones\")  \n",
    "plt.show()"
   ]
  },
  {
   "cell_type": "code",
   "execution_count": 28,
   "id": "2445cb97",
   "metadata": {},
   "outputs": [
    {
     "data": {
      "text/plain": [
       "<bound method NDFrame.head of                   Location_type  WH_capacity_size  zone  num_refill_req_l3m  \\\n",
       "WH_regional_zone                                                              \n",
       "0                            84              2668  2340                5342   \n",
       "1                           167              1998  3862                8329   \n",
       "2                           163              1937  3781                8065   \n",
       "3                           246              2756  5868               11406   \n",
       "4                           236                 0  5661               12412   \n",
       "5                           452              3704  9694               23031   \n",
       "\n",
       "                  transport_issue_l1y  Competitor_in_mkt  retail_shop_num  \\\n",
       "WH_regional_zone                                                            \n",
       "0                                1089               4124          6927328   \n",
       "1                                1440               5754         10036204   \n",
       "2                                1546               6161          9309075   \n",
       "3                                2273               8948         13829244   \n",
       "4                                2261               9185         14911168   \n",
       "5                                4370              17402         27819482   \n",
       "\n",
       "                  wh_owner_type  distributor_num  flood_impacted  flood_proof  \\\n",
       "WH_regional_zone                                                                \n",
       "0                           607            56440             141           67   \n",
       "1                           953            84810             177          105   \n",
       "2                           870            81933             176          122   \n",
       "3                          1267           117967             295          159   \n",
       "4                          1355           129253             281          169   \n",
       "5                          2593           235510             540          309   \n",
       "\n",
       "                  electric_supply  dist_from_hub  storage_issue_reported_l3m  \\\n",
       "WH_regional_zone                                                               \n",
       "0                             876         216323                       22180   \n",
       "1                            1285         328960                       34745   \n",
       "2                            1303         312787                       32986   \n",
       "3                            1762         454385                       47717   \n",
       "4                            2005         495338                       52144   \n",
       "5                            3667         909941                       94882   \n",
       "\n",
       "                  temp_reg_mach  wh_breakdown_l3m  govt_check_l3m  \\\n",
       "WH_regional_zone                                                    \n",
       "0                           389              4621           26489   \n",
       "1                           633              6906           35425   \n",
       "2                           625              6814           43267   \n",
       "3                           848              9720           59575   \n",
       "4                           956             10674           49911   \n",
       "5                          1637             19287           96582   \n",
       "\n",
       "                  product_wg_ton  \n",
       "WH_regional_zone                  \n",
       "0                       28625185  \n",
       "1                       44993107  \n",
       "2                       42523289  \n",
       "3                       61447163  \n",
       "4                       67320808  \n",
       "5                      122366190  >"
      ]
     },
     "execution_count": 28,
     "metadata": {},
     "output_type": "execute_result"
    }
   ],
   "source": [
    "region=df.groupby(by='WH_regional_zone').sum()\n",
    "region.head\n"
   ]
  },
  {
   "cell_type": "code",
   "execution_count": 29,
   "id": "2ef2cbda",
   "metadata": {},
   "outputs": [],
   "source": [
    "##warehouse regional zones versus retail shop numbers"
   ]
  },
  {
   "cell_type": "code",
   "execution_count": 30,
   "id": "e70a8266",
   "metadata": {},
   "outputs": [
    {
     "data": {
      "image/png": "[encoded data removed]",
      "text/plain": [
       "<Figure size 640x480 with 1 Axes>"
      ]
     },
     "metadata": {},
     "output_type": "display_data"
    }
   ],
   "source": [
    "x =df['WH_regional_zone'] \n",
    "y =df['retail_shop_num']\n",
    "plt.bar(x,y)\n",
    "plt.xlabel('warehouse regional zones')\n",
    "plt.ylabel('retail shop numbers')\n",
    "plt.title('warehouse regional zones versus retail shop numbers')\n",
    "plt.show()"
   ]
  },
  {
   "cell_type": "code",
   "execution_count": 31,
   "id": "e33537f1",
   "metadata": {},
   "outputs": [],
   "source": [
    "##warehouse regional zones vs sum of distributors"
   ]
  },
  {
   "cell_type": "code",
   "execution_count": 32,
   "id": "a444e51b",
   "metadata": {},
   "outputs": [
    {
     "data": {
      "image/png": "[encoded data removed]",
      "text/plain": [
       "<Figure size 640x480 with 1 Axes>"
      ]
     },
     "metadata": {},
     "output_type": "display_data"
    }
   ],
   "source": [
    "x = df['WH_regional_zone']\n",
    "y = df['distributor_num']\n",
    "plt.bar(x,y)\n",
    "plt.xlabel('warehouse regional zones')\n",
    "plt.ylabel('sum of distributors')\n",
    "plt.title('warehouse regional zones vs sum of distributors')\n",
    "plt.show()"
   ]
  },
  {
   "cell_type": "code",
   "execution_count": 33,
   "id": "41b118a3",
   "metadata": {},
   "outputs": [],
   "source": [
    "##total product weight in ton"
   ]
  },
  {
   "cell_type": "code",
   "execution_count": 34,
   "id": "c66bd361",
   "metadata": {},
   "outputs": [
    {
     "data": {
      "image/png": "[encoded data removed]",
      "text/plain": [
       "<Figure size 640x480 with 1 Axes>"
      ]
     },
     "metadata": {},
     "output_type": "display_data"
    }
   ],
   "source": [
    "region['product_wg_ton'].plot(kind='pie', autopct='%1.1f%%')\n",
    "plt.title('product weight in ton')\n",
    "plt.show()"
   ]
  },
  {
   "cell_type": "code",
   "execution_count": 35,
   "id": "5e5e6200",
   "metadata": {},
   "outputs": [],
   "source": [
    "##warehouse regional zones vs total distance from hub"
   ]
  },
  {
   "cell_type": "code",
   "execution_count": 36,
   "id": "042ed8f3",
   "metadata": {},
   "outputs": [
    {
     "data": {
      "image/png": "[encoded data removed]",
      "text/plain": [
       "<Figure size 640x480 with 1 Axes>"
      ]
     },
     "metadata": {},
     "output_type": "display_data"
    }
   ],
   "source": [
    "x = df['WH_regional_zone']\n",
    "y = df['dist_from_hub']\n",
    "plt.bar(x,y)\n",
    "plt.xlabel('warehouse regional zones')\n",
    "plt.ylabel('total distance from hub')\n",
    "plt.title('warehouse regional zones vs total distance from hub')\n",
    "plt.show()"
   ]
  },
  {
   "cell_type": "code",
   "execution_count": 39,
   "id": "a58d4fbb",
   "metadata": {},
   "outputs": [],
   "source": [
    "##model implementation"
   ]
  },
  {
   "cell_type": "code",
   "execution_count": 40,
   "id": "f5b4d707",
   "metadata": {},
   "outputs": [],
   "source": [
    "# Importing necessary libraries"
   ]
  },
  {
   "cell_type": "code",
   "execution_count": 85,
   "id": "cd61c2b2",
   "metadata": {},
   "outputs": [],
   "source": [
    "from sklearn.model_selection import train_test_split\n",
    "from sklearn.linear_model import LinearRegression\n",
    "from sklearn.ensemble import GradientBoostingRegressor\n",
    "from sklearn.ensemble import RandomForestRegressor \n",
    "from sklearn.neighbors import KNeighborsRegressor\n",
    "from sklearn.svm import SVR\n",
    "from sklearn.metrics import mean_squared_error,r2_score\n",
    "from sklearn.preprocessing import StandardScaler\n"
   ]
  },
  {
   "cell_type": "code",
   "execution_count": 86,
   "id": "60ca6d66",
   "metadata": {},
   "outputs": [],
   "source": [
    "#splitting the dataset into X and y"
   ]
  },
  {
   "cell_type": "code",
   "execution_count": 87,
   "id": "4ca81b78",
   "metadata": {},
   "outputs": [],
   "source": [
    "X = df.iloc[:, :-1]  # Features\n",
    "y = df.iloc[:, -1]   # Target variable"
   ]
  },
  {
   "cell_type": "code",
   "execution_count": 88,
   "id": "d6d8a724",
   "metadata": {},
   "outputs": [],
   "source": [
    "X_train, X_test, y_train, y_test = train_test_split(X, y, test_size=0.2, random_state=42)"
   ]
  },
  {
   "cell_type": "code",
   "execution_count": 89,
   "id": "6286ad8c",
   "metadata": {},
   "outputs": [],
   "source": [
    "scaler = StandardScaler()\n",
    "X_train_scaled= scaler.fit_transform(X_train)\n",
    "X_test_scaled = scaler.transform(X_test)\n"
   ]
  },
  {
   "cell_type": "code",
   "execution_count": 90,
   "id": "baec133a",
   "metadata": {},
   "outputs": [],
   "source": [
    "#initialize models"
   ]
  },
  {
   "cell_type": "code",
   "execution_count": 91,
   "id": "6d3c2c02",
   "metadata": {},
   "outputs": [],
   "source": [
    "models = {\n",
    "       'Linear Regression': LinearRegression(),\n",
    "       'Gradient Boosting': GradientBoostingRegressor(),\n",
    "       'Random Forest': RandomForestRegressor(),\n",
    "       'SVR': SVR(),\n",
    "       'KNN': KNeighborsRegressor()\n",
    "}"
   ]
  },
  {
   "cell_type": "code",
   "execution_count": 92,
   "id": "f38a2b90",
   "metadata": {},
   "outputs": [],
   "source": [
    "#the models dictionary and fits each model "
   ]
  },
  {
   "cell_type": "code",
   "execution_count": 93,
   "id": "65ff47b0",
   "metadata": {},
   "outputs": [
    {
     "name": "stdout",
     "output_type": "stream",
     "text": [
      "Linear Regression:RMSE=1760.31739085536,R^2=0.9771808245845728\n",
      "Gradient Boosting:RMSE=1342.8533324135692,R^2=0.9867207009831058\n",
      "Random Forest:RMSE=1414.292912541207,R^2=0.9852702044878144\n",
      "SVR:RMSE=11438.628891398299,R^2=0.03646847582582724\n",
      "KNN:RMSE=5478.399193333418,R^2=0.7789831742933792\n"
     ]
    }
   ],
   "source": [
    "for name,model in models.items():\n",
    "    model.fit(X_train_scaled,y_train)\n",
    "    y_pred = model.predict(X_test_scaled)\n",
    "#calculate the Root Mean Squared Error and R^2\n",
    "    rmse=np.sqrt(mean_squared_error(y_test,y_pred))\n",
    "    r2=r2_score(y_test,y_pred)\n",
    "    print(f\"{name}:RMSE={rmse},R^2={r2}\")"
   ]
  },
  {
   "cell_type": "code",
   "execution_count": 94,
   "id": "0058c725",
   "metadata": {},
   "outputs": [],
   "source": [
    "#loading test dataset"
   ]
  },
  {
   "cell_type": "code",
   "execution_count": 103,
   "id": "3861c469",
   "metadata": {},
   "outputs": [],
   "source": [
    "df1=pd.read_csv('Downloads/supply_test.csv')"
   ]
  },
  {
   "cell_type": "code",
   "execution_count": 104,
   "id": "7a3bf0e7",
   "metadata": {},
   "outputs": [],
   "source": [
    "#data cleaning"
   ]
  },
  {
   "cell_type": "code",
   "execution_count": 105,
   "id": "a4911713",
   "metadata": {},
   "outputs": [
    {
     "name": "stdout",
     "output_type": "stream",
     "text": [
      "Categorical columns: Index([], dtype='object')\n",
      "Numerical columns: Index(['num_refill_req_l3m', 'transport_issue_l1y', 'Competitor_in_mkt',\n",
      "       'retail_shop_num', 'distributor_num', 'flood_impacted', 'flood_proof',\n",
      "       'electric_supply', 'dist_from_hub', 'storage_issue_reported_l3m',\n",
      "       'temp_reg_mach', 'wh_breakdown_l3m', 'govt_check_l3m',\n",
      "       'product_wg_ton'],\n",
      "      dtype='object')\n"
     ]
    }
   ],
   "source": [
    "# Separate categorical and numerical columns\n",
    "categorical_columns = df.select_dtypes(include=['object', 'category']).columns\n",
    "numerical_columns = df.select_dtypes(include=['int64', 'float64']).columns\n",
    "\n",
    "# Print the lists of categorical and numerical columns\n",
    "print(\"Categorical columns:\", categorical_columns)\n",
    "print(\"Numerical columns:\", numerical_columns)"
   ]
  },
  {
   "cell_type": "code",
   "execution_count": null,
   "id": "968cfe9a",
   "metadata": {},
   "outputs": [],
   "source": [
    "#removing unwanted columns"
   ]
  },
  {
   "cell_type": "code",
   "execution_count": 106,
   "id": "77663b49",
   "metadata": {},
   "outputs": [],
   "source": [
    "cols_to_drop=['Unnamed: 0','wh_est_year','workers_num','approved_wh_govt_certificate','Ware_house_ID', 'WH_Manager_ID']"
   ]
  },
  {
   "cell_type": "code",
   "execution_count": 107,
   "id": "34d3b385",
   "metadata": {},
   "outputs": [],
   "source": [
    "df1.drop(cols_to_drop,axis=1,inplace=True)"
   ]
  },
  {
   "cell_type": "code",
   "execution_count": null,
   "id": "f8cb26ac",
   "metadata": {},
   "outputs": [],
   "source": [
    "#encoding categorical columns"
   ]
  },
  {
   "cell_type": "code",
   "execution_count": 108,
   "id": "2b40f55c",
   "metadata": {},
   "outputs": [],
   "source": [
    "encoder = LabelEncoder()\n",
    "df1['Location_type'] = encoder.fit_transform(df1['Location_type'])"
   ]
  },
  {
   "cell_type": "code",
   "execution_count": 109,
   "id": "ac97d46c",
   "metadata": {},
   "outputs": [],
   "source": [
    "df1['WH_capacity_size'] = encoder.fit_transform(df1['WH_capacity_size'])"
   ]
  },
  {
   "cell_type": "code",
   "execution_count": 110,
   "id": "5ae620f3",
   "metadata": {},
   "outputs": [],
   "source": [
    "df1['zone'] = encoder.fit_transform(df1['zone'])"
   ]
  },
  {
   "cell_type": "code",
   "execution_count": 111,
   "id": "84245a86",
   "metadata": {},
   "outputs": [],
   "source": [
    "df1['WH_regional_zone'] = encoder.fit_transform(df1['WH_regional_zone'])"
   ]
  },
  {
   "cell_type": "code",
   "execution_count": 112,
   "id": "a3e30305",
   "metadata": {},
   "outputs": [],
   "source": [
    "df1['wh_owner_type'] = encoder.fit_transform(df1['wh_owner_type'])"
   ]
  },
  {
   "cell_type": "code",
   "execution_count": null,
   "id": "d80f73e7",
   "metadata": {},
   "outputs": [],
   "source": [
    "#checking Nan values"
   ]
  },
  {
   "cell_type": "code",
   "execution_count": 113,
   "id": "47c7e8d2",
   "metadata": {},
   "outputs": [
    {
     "name": "stdout",
     "output_type": "stream",
     "text": [
      "Total NaN values in the dataset: 0\n"
     ]
    }
   ],
   "source": [
    "nan_values = df1.isna().sum().sum()\n",
    "print(\"Total NaN values in the dataset:\", nan_values)"
   ]
  },
  {
   "cell_type": "code",
   "execution_count": null,
   "id": "1062eecd",
   "metadata": {},
   "outputs": [],
   "source": [
    "#saving model"
   ]
  },
  {
   "cell_type": "code",
   "execution_count": 114,
   "id": "9b277009",
   "metadata": {},
   "outputs": [],
   "source": [
    "import pickle "
   ]
  },
  {
   "cell_type": "code",
   "execution_count": 115,
   "id": "e6f8d4e2",
   "metadata": {},
   "outputs": [],
   "source": [
    "model_name=\"supply_chain_model\""
   ]
  },
  {
   "cell_type": "code",
   "execution_count": 116,
   "id": "a5b61c35",
   "metadata": {},
   "outputs": [
    {
     "ename": "NameError",
     "evalue": "name 'pkl' is not defined",
     "output_type": "error",
     "traceback": [
      "\u001b[1;31m---------------------------------------------------------------------------\u001b[0m",
      "\u001b[1;31mNameError\u001b[0m                                 Traceback (most recent call last)",
      "Cell \u001b[1;32mIn[116], line 4\u001b[0m\n\u001b[0;32m      2\u001b[0m     pickle\u001b[38;5;241m.\u001b[39mdump(model, file)\n\u001b[0;32m      3\u001b[0m \u001b[38;5;28;01mwith\u001b[39;00m \u001b[38;5;28mopen\u001b[39m(\u001b[38;5;124m'\u001b[39m\u001b[38;5;124msupply_chain_model.pkl\u001b[39m\u001b[38;5;124m'\u001b[39m,\u001b[38;5;124m'\u001b[39m\u001b[38;5;124mrb\u001b[39m\u001b[38;5;124m'\u001b[39m)\u001b[38;5;28;01mas\u001b[39;00m file:\n\u001b[1;32m----> 4\u001b[0m   models_dict \u001b[38;5;241m=\u001b[39m pkl\u001b[38;5;241m.\u001b[39mload(file)\n",
      "\u001b[1;31mNameError\u001b[0m: name 'pkl' is not defined"
     ]
    }
   ],
   "source": [
    "with open('supply_chain_model.pkl', 'wb') as file:\n",
    "    pickle.dump(model, file)\n",
    "with open('supply_chain_model.pkl','rb')as file:\n",
    "  models_dict = pkl.load(file)"
   ]
  },
  {
   "cell_type": "code",
   "execution_count": 117,
   "id": "64088ac4",
   "metadata": {},
   "outputs": [],
   "source": [
    "models = {\n",
    "       'Linear Regression': LinearRegression(),\n",
    "       'Gradient Boosting': GradientBoostingRegressor(),\n",
    "       'Random Forest': RandomForestRegressor(),\n",
    "       'SVR': SVR(),\n",
    "       'KNN': KNeighborsRegressor()}"
   ]
  },
  {
   "cell_type": "code",
   "execution_count": null,
   "id": "d1532b64",
   "metadata": {},
   "outputs": [],
   "source": [
    "#splitting test dataset"
   ]
  },
  {
   "cell_type": "code",
   "execution_count": 119,
   "id": "e81878e6",
   "metadata": {},
   "outputs": [],
   "source": [
    "X = df1.iloc[:, :-1]  # Features\n",
    "y = df1.iloc[:, -1]   # Target variable"
   ]
  },
  {
   "cell_type": "code",
   "execution_count": 120,
   "id": "3a5971a0",
   "metadata": {},
   "outputs": [],
   "source": [
    "X_train, X_test, y_train, y_test = train_test_split(X, y, test_size=0.2, random_state=42)"
   ]
  },
  {
   "cell_type": "code",
   "execution_count": null,
   "id": "7dec2251",
   "metadata": {},
   "outputs": [],
   "source": [
    "#scaling test dataset"
   ]
  },
  {
   "cell_type": "code",
   "execution_count": 121,
   "id": "6b4c3582",
   "metadata": {},
   "outputs": [],
   "source": [
    "scaler = StandardScaler()\n",
    "X_train_scal= scaler.fit_transform(X_train)\n",
    "X_test_scal = scaler.transform(X_test)"
   ]
  },
  {
   "cell_type": "code",
   "execution_count": null,
   "id": "17caa4b2",
   "metadata": {},
   "outputs": [],
   "source": [
    "#model evaluation"
   ]
  },
  {
   "cell_type": "code",
   "execution_count": 129,
   "id": "106b2b13",
   "metadata": {},
   "outputs": [
    {
     "name": "stdout",
     "output_type": "stream",
     "text": [
      "Linear Regression:RMSE=1805.3403504548537,R^2=0.9757105769515354\n",
      "Gradient Boosting:RMSE=1452.2099899737727,R^2=0.9842834267477757\n",
      "Random Forest:RMSE=1509.4696618558455,R^2=0.9830196046123827\n",
      "SVR:RMSE=11513.115836456695,R^2=0.01216418136958941\n",
      "KNN:RMSE=6125.730497363486,R^2=0.720350019692639\n"
     ]
    }
   ],
   "source": [
    "for name,model in models.items():\n",
    "    model.fit(X_train_scal,y_train)\n",
    "    y_pred = model.predict(X_test_scal)\n",
    "#calculate the Root Mean Squared Error and R^2\n",
    "    rmse=np.sqrt(mean_squared_error(y_test,y_pred))\n",
    "    r2=r2_score(y_test,y_pred)\n",
    "    print(f\"{name}:RMSE={rmse},R^2={r2}\")"
   ]
  },
  {
   "cell_type": "code",
   "execution_count": null,
   "id": "f26de05d",
   "metadata": {},
   "outputs": [],
   "source": [
    "#data analysis and visualisations"
   ]
  },
  {
   "cell_type": "code",
   "execution_count": null,
   "id": "9e9974ec",
   "metadata": {},
   "outputs": [],
   "source": [
    "#WH capacity size VS Zone"
   ]
  },
  {
   "cell_type": "code",
   "execution_count": 164,
   "id": "fa66afd0",
   "metadata": {},
   "outputs": [
    {
     "data": {
      "image/png": "[encoded data removed]",
      "text/plain": [
       "<Figure size 640x480 with 1 Axes>"
      ]
     },
     "metadata": {},
     "output_type": "display_data"
    }
   ],
   "source": [
    "plt.hist(df1, bins=6, edgecolor='black')\n",
    "plt.xlabel('zone')\n",
    "plt.ylabel('WH_capacity_size')\n",
    "plt.title('Histogram')\n",
    "plt.grid(True)\n",
    "plt.show()"
   ]
  },
  {
   "cell_type": "code",
   "execution_count": null,
   "id": "1e0b97a4",
   "metadata": {},
   "outputs": [],
   "source": [
    "WH regional zone Vs product weight in ton"
   ]
  },
  {
   "cell_type": "code",
   "execution_count": 165,
   "id": "1cb40d12",
   "metadata": {},
   "outputs": [
    {
     "data": {
      "image/png": "[encoded data removed]",
      "text/plain": [
       "<Figure size 640x480 with 1 Axes>"
      ]
     },
     "metadata": {},
     "output_type": "display_data"
    }
   ],
   "source": [
    "plt.hist(df1, bins=6, edgecolor='black')\n",
    "plt.xlabel('WH_regional_zone')\n",
    "plt.ylabel('product_wg_ton')\n",
    "plt.title('Histogram')\n",
    "plt.grid(True)\n",
    "plt.show()"
   ]
  },
  {
   "cell_type": "code",
   "execution_count": null,
   "id": "bf11efff",
   "metadata": {},
   "outputs": [],
   "source": [
    "#WH regional zone vs retail shops"
   ]
  },
  {
   "cell_type": "code",
   "execution_count": 171,
   "id": "bf54aa52",
   "metadata": {},
   "outputs": [
    {
     "data": {
      "image/png": "[encoded data removed]",
      "text/plain": [
       "<Figure size 640x480 with 1 Axes>"
      ]
     },
     "metadata": {},
     "output_type": "display_data"
    }
   ],
   "source": [
    "x =df1['WH_regional_zone'] \n",
    "y =df1['retail_shop_num']\n",
    "plt.bar(x,y)\n",
    "plt.xlabel('warehouse regional zones')\n",
    "plt.ylabel('retail shop numbers')\n",
    "plt.title('warehouse regional zones versus retail shop numbers')\n",
    "plt.show()"
   ]
  },
  {
   "cell_type": "code",
   "execution_count": null,
   "id": "8d6f493b",
   "metadata": {},
   "outputs": [],
   "source": [
    "#WH_regional zone Vs distributors"
   ]
  },
  {
   "cell_type": "code",
   "execution_count": 172,
   "id": "88dcac71",
   "metadata": {},
   "outputs": [
    {
     "data": {
      "image/png": "[encoded data removed]",
      "text/plain": [
       "<Figure size 640x480 with 1 Axes>"
      ]
     },
     "metadata": {},
     "output_type": "display_data"
    }
   ],
   "source": [
    "x = df1['WH_regional_zone']\n",
    "y = df1['distributor_num']\n",
    "plt.bar(x,y)\n",
    "plt.xlabel('warehouse regional zones')\n",
    "plt.ylabel('sum of distributors')\n",
    "plt.title('warehouse regional zones vs sum of distributors')\n",
    "plt.show()"
   ]
  },
  {
   "cell_type": "code",
   "execution_count": null,
   "id": "d1a8267f",
   "metadata": {},
   "outputs": [],
   "source": []
  },
  {
   "cell_type": "code",
   "execution_count": null,
   "id": "fdd38426",
   "metadata": {},
   "outputs": [],
   "source": []
  }
 ],
 "metadata": {
  "kernelspec": {
   "display_name": "Python 3 (ipykernel)",
   "language": "python",
   "name": "python3"
  },
  "language_info": {
   "codemirror_mode": {
    "name": "ipython",
    "version": 3
   },
   "file_extension": ".py",
   "mimetype": "text/x-python",
   "name": "python",
   "nbconvert_exporter": "python",
   "pygments_lexer": "ipython3",
   "version": "3.11.5"
  }
 },
 "nbformat": 4,
 "nbformat_minor": 5
}
